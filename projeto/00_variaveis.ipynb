{
 "cells": [
  {
   "cell_type": "code",
   "execution_count": 0,
   "metadata": {
    "application/vnd.databricks.v1+cell": {
     "cellMetadata": {
      "byteLimit": 2048000,
      "rowLimit": 10000
     },
     "inputWidgets": {},
     "nuid": "ab805e32-d688-4a9d-b0d9-2f7bc2e8e244",
     "showTitle": false,
     "tableResultSettingsMap": {},
     "title": ""
    }
   },
   "outputs": [],
   "source": [
    "%pip install gitpython -q\n",
    "dbutils.library.restartPython()"
   ]
  },
  {
   "cell_type": "code",
   "execution_count": 0,
   "metadata": {
    "application/vnd.databricks.v1+cell": {
     "cellMetadata": {},
     "inputWidgets": {},
     "nuid": "7ecd0c80-fd18-4d5c-aa1d-11a69d4c780c",
     "showTitle": false,
     "tableResultSettingsMap": {},
     "title": ""
    }
   },
   "outputs": [],
   "source": [
    "catalog_name = \"academy\"\n",
    "schema_name = \"labs_lakeflow\"\n",
    "volume = \"raw_data\"\n",
    "\n",
    "vol_path = f\"/Volumes/{catalog_name}/{schema_name}/{volume}\""
   ]
  },
  {
   "cell_type": "code",
   "execution_count": 0,
   "metadata": {
    "application/vnd.databricks.v1+cell": {
     "cellMetadata": {},
     "inputWidgets": {},
     "nuid": "2d58d9da-635e-4dde-a2d8-549e738390a9",
     "showTitle": false,
     "tableResultSettingsMap": {},
     "title": ""
    }
   },
   "outputs": [],
   "source": [
    "repo_url = \"https://github.com/Databricks-BR/lab_outubro_2025.git/\""
   ]
  },
  {
   "cell_type": "code",
   "execution_count": 0,
   "metadata": {
    "application/vnd.databricks.v1+cell": {
     "cellMetadata": {
      "byteLimit": 2048000,
      "rowLimit": 10000
     },
     "inputWidgets": {},
     "nuid": "e902cebe-cc6b-4e51-9056-5133f2281f82",
     "showTitle": false,
     "tableResultSettingsMap": {},
     "title": ""
    }
   },
   "outputs": [],
   "source": [
    "def carga_dos_dados(carga):\n",
    "    import git\n",
    "    import os\n",
    "    import shutil\n",
    "    import tempfile\n",
    "\n",
    "    if carga != \"initial\" and carga != \"incremental\":\n",
    "        raise ValueError(\"Invalid `carga` value. Must be 'initial' or 'incremental'.\")\n",
    "\n",
    "    dbutils.fs.mkdirs(vol_path)\n",
    "\n",
    "    with tempfile.TemporaryDirectory() as tmp_dir:\n",
    "        repo = git.Repo.clone_from(repo_url, tmp_dir, depth=1, no_checkout=True)\n",
    "        repo.git.checkout('HEAD', '--', 'Files/' + carga)\n",
    "        src = os.path.join(tmp_dir, 'Files/' + carga)\n",
    "        for item in os.listdir(src):\n",
    "            item_path = os.path.join(src, item)\n",
    "            if os.path.isdir(item_path):\n",
    "                dst = os.path.join(vol_path, item)\n",
    "                if os.path.exists(dst):\n",
    "                    shutil.rmtree(dst)\n",
    "                shutil.copytree(item_path, dst)\n",
    "\n",
    "    display(dbutils.fs.ls(vol_path))"
   ]
  }
 ],
 "metadata": {
  "application/vnd.databricks.v1+notebook": {
   "computePreferences": null,
   "dashboards": [],
   "environmentMetadata": {
    "base_environment": "dbe_65bc13ea-276c-4905-a728-9fe2fb1780e2",
    "environment_version": "3"
   },
   "inputWidgetPreferences": null,
   "language": "python",
   "notebookMetadata": {
    "pythonIndentUnit": 2
   },
   "notebookName": "00_variaveis",
   "widgets": {}
  },
  "language_info": {
   "name": "python"
  }
 },
 "nbformat": 4,
 "nbformat_minor": 0
}
