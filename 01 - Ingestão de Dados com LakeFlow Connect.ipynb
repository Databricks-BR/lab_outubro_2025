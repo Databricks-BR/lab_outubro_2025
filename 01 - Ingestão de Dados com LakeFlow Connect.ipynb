{
 "cells": [
  {
   "cell_type": "markdown",
   "metadata": {
    "application/vnd.databricks.v1+cell": {
     "cellMetadata": {},
     "inputWidgets": {},
     "nuid": "b29ac4ac-1f15-4d05-b3df-2bf6ead4856b",
     "showTitle": false,
     "tableResultSettingsMap": {},
     "title": ""
    }
   },
   "source": [
    "\n",
    "<div style=\"text-align: center; line-height: 0; padding-top: 9px;\">\n",
    "  <img src=\"https://raw.githubusercontent.com/Databricks-BR/lab_outubro_2025/refs/heads/main/Includes/images/handson_lab_outubro.png\" alt=\"Databricks Learning\">\n",
    "</div>\n"
   ]
  },
  {
   "cell_type": "markdown",
   "metadata": {
    "application/vnd.databricks.v1+cell": {
     "cellMetadata": {},
     "inputWidgets": {},
     "nuid": "99f1429d-a388-4b15-b4de-fd250880b96d",
     "showTitle": false,
     "tableResultSettingsMap": {},
     "title": ""
    }
   },
   "source": [
    "# 01 - Ingesta de datos con LakeFlow Connect\n",
    "\n",
En esta demostración, se le presentarán los conectores gestionados **LakeFlow Connect** para fuentes empresariales externas. Una herramienta fácil de usar para traer datos de diversos sistemas, como bases de datos (por ejemplo, SQL Server), aplicaciones (por ejemplo, Salesforce, Workday) y servicios de almacenamiento de archivos (por ejemplo, SharePoint) al lakehouse.    "\n",
«Está diseñada para gestionar datos de manera eficiente y mejorar automáticamente el rendimiento».    "\n",
    "### Objetivos de Aprendizage\n",
    "\n",
Al final de la demostración, deberás ser capaz de:\n    "\n",
  «Explorar los conectores gestionados por Databricks disponibles para ingestar datos a través de LakeFlow Connect».
«- Ver cómo introducir datos utilizando Partner Connect.»,
«- Agregar un conector de base de datos y configurar una demostración del proceso de ingestión:»,
- Elegir qué datos desea incorporar y sincronizar con Databricks.
- Sincronizar el canal de datos con Unity Catalog (catálogo y esquema).
]
  },
  {
   "cell_type": "markdown",
   "metadata": {
    "application/vnd.databricks.v1+cell": {
     "cellMetadata": {},
     "inputWidgets": {},
     "nuid": "c79cf5e6-15cf-4b64-9dfc-17ff53a4a6ce",
     "showTitle": false,
     "tableResultSettingsMap": {},
     "title": ""
    }
   },
   "source": [
«1. Siga los pasos que se indican a continuación para ver la documentación de Lakeflow Connect:\n»,
"\n",
a. Acceda a la página de [documentación de Databricks](https://docs.databricks.com/aws/en/).\n
"\n",
b. En la barra de navegación de la izquierda, expanda **Ingeniería de datos**.
"\n",
c. Expanda **Lakeflow Connect** para ver la documentación disponible sobre la ingesta de datos con Lakeflow Connect.
"\n",
d. Expanda **Conectores administrados** para acceder a información sobre los conectores administrados por Databricks.
"\n",
**NOTA:** Las instrucciones de navegación en la documentación pueden cambiar después de una actualización.
]
  },
  {
   "cell_type": "markdown",
   "metadata": {
    "application/vnd.databricks.v1+cell": {
     "cellMetadata": {},
     "inputWidgets": {},
     "nuid": "9567f6cd-9c58-40f3-b84b-3ad64eb840a4",
     "showTitle": false,
     "tableResultSettingsMap": {},
     "title": ""
    }
   },
   "source": [
«2. Siga los pasos que se indican a continuación para explorar las capacidades de **ingesta de datos** disponibles en Databricks:\n»,
"\n",
" a. En la barra de navegación principal de la izquierda, haga clic con el botón derecho en **Ingesta de datos** y seleccione **Abrir en una nueva pestaña**.\n",
"\n",
b. En **Conectores Databricks**, verá varios conectores gestionados por Databricks proporcionados por LakeFlow Connect.
"\n",
" c. En la sección **Archivos**, puede:\n",
" \n",
" - **Crear o modificar tablas**\n",
"\n",
" - **Subir archivos a un volumen**\n",
"\n",
" - **Crear una tabla desde Amazon S3**\n",
" \n",
" - Arrastrar y soltar archivos al utilizar las opciones para crear/modificar tablas o subir archivos a un volumen.",
"\n",
" d. En **Conectores Fivetran**, puede buscar conexiones de fuentes de datos específicas utilizando un socio.\n",
"\n",
" e. Haga clic en cualquier conector para ver los detalles.\n",
"\n",
" f. También puede cargar archivos directamente en **DBFS** para obtener compatibilidad retroactiva, aunque Databricks recomienda cargarlos en Unity Catalog a partir de ahora."
]
},
  {
   "cell_type": "markdown",
   "metadata": {
    "application/vnd.databricks.v1+cell": {
     "cellMetadata": {},
     "inputWidgets": {},
     "nuid": "26a484b3-1339-44fe-bef2-15c2c9cd42a7",
     "showTitle": false,
     "tableResultSettingsMap": {},
     "title": ""
    }
   },
   "source": [
«3. Complete la siguiente demostración para aprender a utilizar un conector gestionado por Databricks para una base de datos externa o una aplicación SaaS utilizando **LakeFlow Connect**.»,
"\n",
NOTA: Este curso no cuenta con una base de datos ni una aplicación SaaS activa para su uso. Las demostraciones que se muestran a continuación son solo un paso a paso. Durante una clase en vivo, elija uno de los recorridos que se muestran a continuación.
"\n",
- [Demostración del conector gestionado LakeFlow Connect](https://app.getreprise.com/launch/BXZY58n/) - Demostración sencilla,
"\n",
- [Databricks Lakeflow Connect para informes de Workday: conecte, ingiera y analice datos de Workday sin complejidad](https://www.databricks.com/resources/demos/tours/appdev/lakeflow-workday-connect?itm_data=demo_center),
"\n",
- [Databricks Lakeflow Connect para Salesforce: potenciando las ventas inteligentes con IA y análisis](https://www.databricks.com/resources/demos/tours/platform/discover-databricks-lakeflow-connect-demo?itm_data=demo_center)
]
},
  {
   "cell_type": "markdown",
   "metadata": {
    "application/vnd.databricks.v1+cell": {
     "cellMetadata": {},
     "inputWidgets": {},
     "nuid": "6f992174-db94-4d65-8b62-6754acfa8ae3",
     "showTitle": false,
     "tableResultSettingsMap": {},
     "title": ""
    }
   },
   "source": [
    "\n",
    "&copy; 2025 Databricks, Inc. All rights reserved. Apache, Apache Spark, Spark, the Spark Logo, Apache Iceberg, Iceberg, and the Apache Iceberg logo are trademarks of the <a href=\"https://www.apache.org/\" target=\"blank\">Apache Software Foundation</a>.<br/>\n",
    "<br/><a href=\"https://databricks.com/privacy-policy\" target=\"blank\">Privacy Policy</a> | \n",
    "<a href=\"https://databricks.com/terms-of-use\" target=\"blank\">Terms of Use</a> | \n",
    "<a href=\"https://help.databricks.com/\" target=\"blank\">Support</a>"
   ]
  }
 ],
 "metadata": {
  "application/vnd.databricks.v1+notebook": {
   "computePreferences": null,
   "dashboards": [],
   "environmentMetadata": null,
   "inputWidgetPreferences": null,
   "language": "python",
   "notebookMetadata": {
    "pythonIndentUnit": 2
   },
   "notebookName": "01 - Ingesta de datos con LakeFlow Connect",
   "widgets": {}
  },
  "language_info": {
   "name": "python"
  }
 },
 "nbformat": 4,
 "nbformat_minor": 0
}
