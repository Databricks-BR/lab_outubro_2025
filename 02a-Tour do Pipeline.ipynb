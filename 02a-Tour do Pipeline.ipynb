{
 "cells": [
  {
   "cell_type": "markdown",
   "metadata": {
    "application/vnd.databricks.v1+cell": {
     "cellMetadata": {},
     "inputWidgets": {},
     "isMarkdownSandbox": true,
     "nuid": "5eb6bbf2-70c8-4e15-baa4-c3f535374495",
     "showTitle": false,
     "tableResultSettingsMap": {},
     "title": ""
    }
   },
   "source": [
    "## Tabelas de Streaming\n",
    "\n",
    "<img src=\"https://github.com/databricks-demos/dbdemos-resources/blob/main/images/product/declarative-pipelines/declarative-pipelines-1.png?raw=true\" width=\"400px\" style=\"width:400px; float: right;\" />\n",
    "\n",
    "Uma tabela de streaming é uma tabela Delta com suporte adicional para processamento de dados em streaming ou incremental. Uma tabela de streaming pode ser alvo de um ou mais fluxos em um pipeline ETL.\n",
    "\n",
    "Tabelas de streaming são uma boa escolha para ingestão de dados pelos seguintes motivos:\n",
    "* Cada linha de entrada é processada apenas uma vez, o que modela a grande maioria das cargas de trabalho de ingestão (ou seja, adicionando ou fazendo upsert de linhas em uma tabela).\n",
    "* Elas podem lidar com grandes volumes de dados apenas de acréscimo.\n",
    "\n",
    "Tabelas de streaming também são uma boa escolha para transformações de streaming de baixa latência pelos seguintes motivos:\n",
    "* Permitem raciocinar sobre linhas e janelas de tempo\n",
    "* Lidam com grandes volumes de dados\n",
    "* Baixa latência\n",
    "\n",
    "<!-- Coletar dados de uso (visualização). Remova para desabilitar a coleta. Veja o README para mais detalhes.  -->\n",
    "<img width=\"1px\" src=\"https://ppxrzfxige.execute-api.us-west-2.amazonaws.com/v1/analytics?category=data-engineering&org_id=1444828305810485&notebook=%2Ftransformations%2F00-pipeline-tutorial&demo_name=pipeline-bike&event=VIEW&path=%2F_dbdemos%2Fdata-engineering%2Fpipeline-bike%2Ftransformations%2F00-pipeline-tutorial&version=1&user_hash=23c97c22545194e8a2febe533c183aca28a287ded4335bcc65c8b60cdcfa14c7\">"
   ]
  },
  {
   "cell_type": "markdown",
   "metadata": {
    "application/vnd.databricks.v1+cell": {
     "cellMetadata": {},
     "inputWidgets": {},
     "nuid": "4c33cc9b-31a4-4035-ab0d-04b245390099",
     "showTitle": false,
     "tableResultSettingsMap": {},
     "title": ""
    }
   },
   "source": [
    "## Criando nossas tabelas de streaming bronze\n",
    "Veja [bronze.sql]($./transformations/01-bronze.sql) para entender como criamos nossas tabelas bronze `maintenance_logs_raw`, `rides_raw`, `weather_raw` e `customers_cdc_raw`."
   ]
  },
  {
   "cell_type": "markdown",
   "metadata": {
    "application/vnd.databricks.v1+cell": {
     "cellMetadata": {},
     "inputWidgets": {},
     "isMarkdownSandbox": true,
     "nuid": "a92c3c44-fe92-4181-90df-deebbede4dd1",
     "showTitle": false,
     "tableResultSettingsMap": {},
     "title": ""
    }
   },
   "source": [
    "# Enriquecendo nossos dados com funções de IA\n",
    "\n",
    "<img src=\"https://github.com/databricks-demos/dbdemos-resources/blob/main/images/product/declarative-pipelines/declarative-pipelines-2.png?raw=true\" width=\"400px\" style=\"width:400px; float: right;\" />\n",
    "\n",
    "Agora que carregamos nossos dados brutos, vamos enriquecê-los em nossa camada silver.\n",
    "\n",
    "Nossos registros de manutenção incluem um campo não estruturado `issue_description`, que não é muito útil para análises. Vamos usar a função `ai_classify` para categorizar cada um desses problemas em categorias para relatórios."
   ]
  },
  {
   "cell_type": "code",
   "execution_count": 0,
   "metadata": {
    "application/vnd.databricks.v1+cell": {
     "cellMetadata": {
      "byteLimit": 2048000,
      "rowLimit": 10000
     },
     "inputWidgets": {},
     "nuid": "4c606581-e03a-4a9f-8857-3b2e80ac2d7d",
     "showTitle": false,
     "tableResultSettingsMap": {},
     "title": ""
    }
   },
   "outputs": [],
   "source": [
    "%run ./00_variaveis"
   ]
  },
  {
   "cell_type": "code",
   "execution_count": 0,
   "metadata": {
    "application/vnd.databricks.v1+cell": {
     "cellMetadata": {
      "byteLimit": 2048000,
      "rowLimit": 10000
     },
     "inputWidgets": {},
     "nuid": "a8bccd54-f2b1-4861-aca9-8cb1385e9d0a",
     "showTitle": false,
     "tableResultSettingsMap": {},
     "title": ""
    }
   },
   "outputs": [],
   "source": [
    "spark.sql(f\"\"\"\n",
    "select\n",
    "  date(reported_time) as maintenance_date,\n",
    "  maintenance_id,\n",
    "  bike_id,\n",
    "  reported_time,\n",
    "  resolved_time,\n",
    "  issue_description,\n",
    "  -- Classifique os problemas como relacionados a freios, correntes/pedais, pneus ou outro\n",
    "  ai_classify(issue_description, array(\"brakes\", \"chains_pedals\", \"tires\", \"other\")) as issue_type\n",
    "from\n",
    "  {catalog_name}.{schema_name}.maintenance_logs_raw\n",
    "limit 10\n",
    "\"\"\")"
   ]
  },
  {
   "cell_type": "markdown",
   "metadata": {
    "application/vnd.databricks.v1+cell": {
     "cellMetadata": {},
     "inputWidgets": {},
     "nuid": "8feeb26c-67e8-477c-af2a-410d86dba06b",
     "showTitle": false,
     "tableResultSettingsMap": {},
     "title": ""
    }
   },
   "source": [
    "## Criando nossas tabelas de streaming silver enriquecidas com IA\n",
    "Veja [silver.sql]($./transformations/02-silver.sql) para ver como criamos nossas tabelas silver `maintenance_logs`, `rides`, `weather` e `customers` (SCD Tipo 2 usando Auto CDC)."
   ]
  },
  {
   "cell_type": "markdown",
   "metadata": {
    "application/vnd.databricks.v1+cell": {
     "cellMetadata": {},
     "inputWidgets": {},
     "isMarkdownSandbox": true,
     "nuid": "5c1419e8-b153-4f8e-b9ab-e5f97f183632",
     "showTitle": false,
     "tableResultSettingsMap": {},
     "title": ""
    }
   },
   "source": [
    "# Processando agregações incrementalmente com Visualizações Materializadas\n",
    "\n",
    "<img src=\"https://github.com/databricks-demos/dbdemos-resources/blob/main/images/product/declarative-pipelines/declarative-pipelines-3.png?raw=true\" width=\"400px\" style=\"width:400px; float: right;\" />\n",
    "\n",
    "Assim como as visualizações padrão, as visualizações materializadas são o resultado de uma consulta e você as acessa da mesma forma que acessaria uma tabela. Diferente das visualizações padrão, que recalculam os resultados a cada consulta, as visualizações materializadas armazenam os resultados em cache e os atualizam em um intervalo especificado. Como uma visualização materializada é pré-computada, consultas sobre ela podem ser executadas muito mais rapidamente do que em visualizações regulares.\n",
    "\n",
    "Uma visualização materializada é um objeto de pipeline declarativo. Ela inclui uma consulta que a define, um fluxo para atualizá-la e os resultados em cache para acesso rápido. Uma visualização materializada:\n",
    "* Acompanha mudanças nos dados de origem.\n",
    "* Ao ser acionada, processa incrementalmente os dados alterados e aplica as transformações necessárias.\n",
    "* Mantém a tabela de saída sincronizada com os dados de origem, com base em um intervalo de atualização especificado.\n",
    "\n",
    "Visualizações materializadas são uma boa escolha para muitas transformações:\n",
    "* Você aplica raciocínio sobre resultados em cache ao invés de linhas. Na verdade, você simplesmente escreve uma consulta.\n",
    "* Elas estão sempre corretas. Todos os dados necessários são processados, mesmo que cheguem atrasados ou fora de ordem.\n",
    "* Frequentemente são incrementais. O Databricks tentará escolher a estratégia apropriada que minimize o custo de atualização de uma visualização materializada.\n",
    "\n",
    "Quando o pipeline que define uma visualização materializada é acionado, a visualização é automaticamente mantida atualizada, geralmente de forma incremental. O Databricks tenta processar apenas os dados necessários para manter a visualização materializada atualizada. Uma visualização materializada sempre mostra o resultado correto, mesmo que seja necessário recomputar totalmente o resultado da consulta, mas frequentemente o Databricks faz apenas atualizações incrementais, o que pode ser muito menos custoso do que uma recomputação completa."
   ]
  },
  {
   "cell_type": "markdown",
   "metadata": {
    "application/vnd.databricks.v1+cell": {
     "cellMetadata": {},
     "inputWidgets": {},
     "nuid": "9e3fef8c-58b5-49b2-aabc-121b18fe173f",
     "showTitle": false,
     "tableResultSettingsMap": {},
     "title": ""
    }
   },
   "source": [
    "## Criando nossas Visualizações Materializadas gold\n",
    "Veja [gold.sql]($./transformations/03-gold.sql) para ver como criamos nossas tabelas gold `bikes`, `stations` e `maintenance_events`"
   ]
  },
  {
   "cell_type": "markdown",
   "metadata": {
    "application/vnd.databricks.v1+cell": {
     "cellMetadata": {},
     "inputWidgets": {},
     "nuid": "b4ead48d-b4d8-4c2f-83cc-391124471a7d",
     "showTitle": false,
     "tableResultSettingsMap": {},
     "title": ""
    }
   },
   "source": [
    "## Analisando seus indicadores de negócio\n",
    "Você tem tudo o que precisa! Quando estiver pronto, abra seu <a  dbdemos-dashboard-id=\"bike-rental\" href='/sql/dashboardsv3/01f0931f3a0516209179aedea0ed1b08' target=\"_blank\">Painel de Negócios de Aluguel de Bicicletas</a> para acompanhar todos os seus insights em tempo real!\n"
   ]
  }
 ],
 "metadata": {
  "application/vnd.databricks.v1+notebook": {
   "computePreferences": null,
   "dashboards": [],
   "environmentMetadata": {
    "environment_version": "2"
   },
   "inputWidgetPreferences": null,
   "language": "python",
   "notebookMetadata": {
    "pythonIndentUnit": 2
   },
   "notebookName": "02a-Tour do Pipeline",
   "widgets": {}
  },
  "language_info": {
   "name": "python"
  }
 },
 "nbformat": 4,
 "nbformat_minor": 0
}
